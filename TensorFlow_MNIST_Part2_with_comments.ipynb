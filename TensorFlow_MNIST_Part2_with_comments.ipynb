{
 "cells": [
  {
   "cell_type": "markdown",
   "metadata": {
    "colab_type": "text",
    "id": "eUJ8yGMTpKk2"
   },
   "source": [
    "# MNISTによる分類問題"
   ]
  },
  {
   "cell_type": "markdown",
   "metadata": {
    "colab_type": "text",
    "id": "5Ch14oInpKk3"
   },
   "source": [
    "## ライブラリのインポート"
   ]
  },
  {
   "cell_type": "code",
   "execution_count": 5,
   "metadata": {
    "colab": {},
    "colab_type": "code",
    "executionInfo": {
     "elapsed": 3104,
     "status": "ok",
     "timestamp": 1600154567762,
     "user": {
      "displayName": "大橋亮太",
      "photoUrl": "",
      "userId": "04193769736923210432"
     },
     "user_tz": -540
    },
    "id": "wykAm5RQpKk4"
   },
   "outputs": [],
   "source": [
    "import numpy as np\n",
    "import tensorflow as tf\n",
    "\n",
    "# tensorflow-datasetsモジュールを使ってMNISTデータセットをインポートしていきます。まだインストールしていない場合は以下のコマンドでインストールしましょう。\n",
    "# pip install tensorflow-datasets \n",
    "# conda install tensorflow-datasets\n",
    "\n",
    "import tensorflow_datasets as tfds\n",
    "\n",
    "# このデータセットは、C:\\Users\\*USERNAME*\\tensorflow_datasets\\...に保存されます。"
   ]
  },
  {
   "cell_type": "markdown",
   "metadata": {
    "colab_type": "text",
    "id": "k5SfeDLwpKk6"
   },
   "source": [
    "## データの読み込み\n"
   ]
  },
  {
   "cell_type": "code",
   "execution_count": 6,
   "metadata": {
    "colab": {
     "base_uri": "https://localhost:8080/",
     "height": 54
    },
    "colab_type": "code",
    "executionInfo": {
     "elapsed": 898,
     "status": "ok",
     "timestamp": 1600154704457,
     "user": {
      "displayName": "大橋亮太",
      "photoUrl": "",
      "userId": "04193769736923210432"
     },
     "user_tz": -540
    },
    "id": "8rkA5GKVpKk7",
    "outputId": "51347df5-4291-4530-eeb1-614dd2ee0414"
   },
   "outputs": [],
   "source": [
    "# tfds.loadを使ってデータセットを読み込んでいきます \n",
    "mnist_dataset, mnist_info = tfds.load(name='mnist',with_info=True, as_supervised=True)\n",
    "# with_info=True をすることによって、データに関する情報を得ることができるようになります。\n",
    "\n",
    "# as_supervised=Trueをすることによって、データを入力とターゲットの二つののタプル形式で作成することができます \n",
    "\n",
    "# 訓練用データとテスト用データをそれぞれの変数に代入します\n",
    "mnist_train, mnist_test = mnist_dataset['train'], mnist_dataset['test']\n",
    "\n",
    "# ここから検証用データセットを作っていきます。まずは、検証用データに割り当てる割合を決めます。\n",
    "num_validation_samples = 0.1 * mnist_info.splits['train'].num_examples\n",
    "# 数字を整数に変換していきます（既に整数になっている場合も念のため行います）\n",
    "num_validation_samples = tf.cast(num_validation_samples, tf.int64)\n",
    "\n",
    "# テストデータの数も変数に入れていきます\n",
    "num_test_samples = mnist_info.splits['test'].num_examples\n",
    "# 数字を整数に変換していきます\n",
    "num_test_samples = tf.cast(num_test_samples, tf.int64)\n",
    "\n",
    "\n",
    "# 元の入力データの範囲である0から255を0と1に変えていきます\n",
    "# 今回は、変換するための関数を作成していきます\n",
    "def scale(image, label):\n",
    "    # 数字が小数であることを確認します\n",
    "    image = tf.cast(image, tf.float32)\n",
    "    # 0と1の範囲におさめるため、255で割っていきます \n",
    "    image /= 255.\n",
    "\n",
    "    return image, label\n",
    "\n",
    "# mapメソッドを使ってデータの変換を行っていきます\n",
    "scaled_train_and_validation_data = mnist_train.map(scale)\n",
    "\n",
    "# テストデータに関しても同様の変換を行っていきます\n",
    "test_data = mnist_test.map(scale)\n"
   ]
  },
  {
   "cell_type": "code",
   "execution_count": null,
   "metadata": {
    "colab": {},
    "colab_type": "code",
    "id": "2yLwmeO8pQ-Q"
   },
   "outputs": [],
   "source": []
  }
 ],
 "metadata": {
  "colab": {
   "name": "TensorFlow_MNIST_Part2_with_comments.ipynb",
   "provenance": []
  },
  "kernelspec": {
   "display_name": "Python 3 (ipykernel)",
   "language": "python",
   "name": "python3"
  },
  "language_info": {
   "codemirror_mode": {
    "name": "ipython",
    "version": 3
   },
   "file_extension": ".py",
   "mimetype": "text/x-python",
   "name": "python",
   "nbconvert_exporter": "python",
   "pygments_lexer": "ipython3",
   "version": "3.11.5"
  }
 },
 "nbformat": 4,
 "nbformat_minor": 1
}
